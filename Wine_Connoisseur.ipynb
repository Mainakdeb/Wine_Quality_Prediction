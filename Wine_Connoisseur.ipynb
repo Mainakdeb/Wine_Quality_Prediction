{
  "nbformat": 4,
  "nbformat_minor": 0,
  "metadata": {
    "accelerator": "GPU",
    "colab": {
      "name": "Wine_Connoisseur.ipynb",
      "provenance": [],
      "collapsed_sections": [],
      "include_colab_link": true
    },
    "kernelspec": {
      "display_name": "Python 3",
      "language": "python",
      "name": "python3"
    },
    "language_info": {
      "codemirror_mode": {
        "name": "ipython",
        "version": 3
      },
      "file_extension": ".py",
      "mimetype": "text/x-python",
      "name": "python",
      "nbconvert_exporter": "python",
      "pygments_lexer": "ipython3",
      "version": "3.7.3"
    }
  },
  "cells": [
    {
      "cell_type": "markdown",
      "metadata": {
        "id": "view-in-github",
        "colab_type": "text"
      },
      "source": [
        "<a href=\"https://colab.research.google.com/github/Mainakdeb/Wine_Quality_Prediction/blob/master/Wine_Connoisseur.ipynb\" target=\"_parent\"><img src=\"https://colab.research.google.com/assets/colab-badge.svg\" alt=\"Open In Colab\"/></a>"
      ]
    },
    {
      "cell_type": "code",
      "metadata": {
        "colab_type": "code",
        "id": "0qMVtWUVDT4P",
        "outputId": "c88d0ae7-464b-4cf0-e036-712172cf94cf",
        "colab": {
          "base_uri": "https://localhost:8080/",
          "height": 122
        }
      },
      "source": [
        "from google.colab import drive\n",
        "drive.mount('/content/gdrive')"
      ],
      "execution_count": 1,
      "outputs": [
        {
          "output_type": "stream",
          "text": [
            "Go to this URL in a browser: https://accounts.google.com/o/oauth2/auth?client_id=947318989803-6bn6qk8qdgf4n4g3pfee6491hc0brc4i.apps.googleusercontent.com&redirect_uri=urn%3aietf%3awg%3aoauth%3a2.0%3aoob&response_type=code&scope=email%20https%3a%2f%2fwww.googleapis.com%2fauth%2fdocs.test%20https%3a%2f%2fwww.googleapis.com%2fauth%2fdrive%20https%3a%2f%2fwww.googleapis.com%2fauth%2fdrive.photos.readonly%20https%3a%2f%2fwww.googleapis.com%2fauth%2fpeopleapi.readonly\n",
            "\n",
            "Enter your authorization code:\n",
            "··········\n",
            "Mounted at /content/gdrive\n"
          ],
          "name": "stdout"
        }
      ]
    },
    {
      "cell_type": "code",
      "metadata": {
        "colab_type": "code",
        "id": "sX-tdVX9D9t3",
        "colab": {
          "base_uri": "https://localhost:8080/",
          "height": 139
        },
        "outputId": "bb4d4e81-9700-4a42-c0ab-be38ac741cd9"
      },
      "source": [
        "import pandas as pd\n",
        "import matplotlib.pyplot as plt\n",
        "import numpy as np\n",
        "import seaborn as sn\n",
        "from sklearn.preprocessing import MinMaxScaler\n",
        "import torch\n",
        "from torch import nn, optim\n",
        "import torch.nn.functional as F\n",
        "import tqdm\n",
        "from tqdm import tnrange\n",
        "from imblearn.over_sampling import SMOTE"
      ],
      "execution_count": 1,
      "outputs": [
        {
          "output_type": "stream",
          "text": [
            "/usr/local/lib/python3.6/dist-packages/statsmodels/tools/_testing.py:19: FutureWarning: pandas.util.testing is deprecated. Use the functions in the public API at pandas.testing instead.\n",
            "  import pandas.util.testing as tm\n",
            "/usr/local/lib/python3.6/dist-packages/sklearn/externals/six.py:31: FutureWarning: The module is deprecated in version 0.21 and will be removed in version 0.23 since we've dropped support for Python 2.7. Please rely on the official version of six (https://pypi.org/project/six/).\n",
            "  \"(https://pypi.org/project/six/).\", FutureWarning)\n",
            "/usr/local/lib/python3.6/dist-packages/sklearn/utils/deprecation.py:144: FutureWarning: The sklearn.neighbors.base module is  deprecated in version 0.22 and will be removed in version 0.24. The corresponding classes / functions should instead be imported from sklearn.neighbors. Anything that cannot be imported from sklearn.neighbors is now part of the private API.\n",
            "  warnings.warn(message, FutureWarning)\n"
          ],
          "name": "stderr"
        }
      ]
    },
    {
      "cell_type": "code",
      "metadata": {
        "colab_type": "code",
        "id": "iIq7JlmpDmYb",
        "colab": {}
      },
      "source": [
        "#df = pd.read_csv('./gdrive/My Drive/Wine_Quality/winequality-red.csv')\n",
        "\n",
        "df = pd.read_csv('/content/gdrive/My Drive/Wine_Quality/winequality-red.csv')"
      ],
      "execution_count": 0,
      "outputs": []
    },
    {
      "cell_type": "code",
      "metadata": {
        "colab_type": "code",
        "id": "kJELNelcDmWT",
        "colab": {}
      },
      "source": [
        "split_data = df['fixed acidity;\"volatile acidity\";\"citric acid\";\"residual sugar\";\"chlorides\";\"free sulfur dioxide\";\"total sulfur dioxide\";\"density\";\"pH\";\"sulphates\";\"alcohol\";\"quality\"'].str.split(\";\")\n",
        "\n",
        "data = split_data.to_list()\n",
        "\n",
        "names = [\"Fixed_acidity\", \"Volatile_acidity\", \"Citric_acid\", \"Residual_sugar\", \"Chlorides\", \"Free_sulfur_dioxide\", \"Total_sulfur_Dioxide\", \"Density\", \"pH\", \"Sulphates\", \"Alcohol\", \"Quality\"]\n",
        "\n",
        "df2 = pd.DataFrame(data, columns=names)"
      ],
      "execution_count": 0,
      "outputs": []
    },
    {
      "cell_type": "code",
      "metadata": {
        "colab_type": "code",
        "id": "8YQipMyWDmTS",
        "outputId": "a01a2d95-fba9-4a6b-b143-cb2634bb2d38",
        "colab": {
          "base_uri": "https://localhost:8080/",
          "height": 376
        }
      },
      "source": [
        "sn.heatmap(df2.isnull(), yticklabels=False)"
      ],
      "execution_count": 4,
      "outputs": [
        {
          "output_type": "execute_result",
          "data": {
            "text/plain": [
              "<matplotlib.axes._subplots.AxesSubplot at 0x7f73c3986f28>"
            ]
          },
          "metadata": {
            "tags": []
          },
          "execution_count": 4
        },
        {
          "output_type": "display_data",
          "data": {
            "image/png": "[encoded data removed]",
            "text/plain": [
              "<Figure size 432x288 with 2 Axes>"
            ]
          },
          "metadata": {
            "tags": [],
            "needs_background": "light"
          }
        }
      ]
    },
    {
      "cell_type": "code",
      "metadata": {
        "colab_type": "code",
        "id": "1DtdlQcODmHB",
        "outputId": "8e9a1e0c-83ec-437a-ee89-39c6d1d96e53",
        "colab": {
          "base_uri": "https://localhost:8080/",
          "height": 340
        }
      },
      "source": [
        "df2.info()"
      ],
      "execution_count": 5,
      "outputs": [
        {
          "output_type": "stream",
          "text": [
            "<class 'pandas.core.frame.DataFrame'>\n",
            "RangeIndex: 1599 entries, 0 to 1598\n",
            "Data columns (total 12 columns):\n",
            " #   Column                Non-Null Count  Dtype \n",
            "---  ------                --------------  ----- \n",
            " 0   Fixed_acidity         1599 non-null   object\n",
            " 1   Volatile_acidity      1599 non-null   object\n",
            " 2   Citric_acid           1599 non-null   object\n",
            " 3   Residual_sugar        1599 non-null   object\n",
            " 4   Chlorides             1599 non-null   object\n",
            " 5   Free_sulfur_dioxide   1599 non-null   object\n",
            " 6   Total_sulfur_Dioxide  1599 non-null   object\n",
            " 7   Density               1599 non-null   object\n",
            " 8   pH                    1599 non-null   object\n",
            " 9   Sulphates             1599 non-null   object\n",
            " 10  Alcohol               1599 non-null   object\n",
            " 11  Quality               1599 non-null   object\n",
            "dtypes: object(12)\n",
            "memory usage: 150.0+ KB\n"
          ],
          "name": "stdout"
        }
      ]
    },
    {
      "cell_type": "code",
      "metadata": {
        "colab_type": "code",
        "id": "MlIuuGRTDmE4",
        "colab": {}
      },
      "source": [
        "df3 = df2.astype(float)"
      ],
      "execution_count": 0,
      "outputs": []
    },
    {
      "cell_type": "code",
      "metadata": {
        "colab_type": "code",
        "id": "V3gp5GC8DmC3",
        "outputId": "b3b89c38-9e29-4666-9e31-2dcda08b9e7a",
        "scrolled": true,
        "colab": {
          "base_uri": "https://localhost:8080/",
          "height": 359
        }
      },
      "source": [
        "sn.heatmap(df3.corr())\n",
        "plt.show()"
      ],
      "execution_count": 7,
      "outputs": [
        {
          "output_type": "display_data",
          "data": {
            "image/png": "[encoded data removed]",
            "text/plain": [
              "<Figure size 432x288 with 2 Axes>"
            ]
          },
          "metadata": {
            "tags": [],
            "needs_background": "light"
          }
        }
      ]
    },
    {
      "cell_type": "code",
      "metadata": {
        "id": "WSfh18ih-T_H",
        "colab_type": "code",
        "colab": {}
      },
      "source": [
        "def plot_against_attr(attribute):\n",
        "    #attribute=\"Density\"\n",
        "    x = list(df3[attribute])\n",
        "    y = list(df3['Quality'])\n",
        "    y, x = zip(*sorted(zip(y, x)))\n",
        "    plt.plot(x,y,'o')\n",
        "    plt.xlabel(attribute)\n",
        "    plt.xticks()\n",
        "    plt.ylabel('Quality')\n",
        "    plt.grid()\n",
        "\n",
        "    z = np.polyfit(x, y, 1)\n",
        "    p = np.poly1d(z)\n",
        "    plt.plot(x,p(x),\"r--\")\n",
        "    plt.show()\n"
      ],
      "execution_count": 0,
      "outputs": []
    },
    {
      "cell_type": "code",
      "metadata": {
        "id": "reoUbhV8-T_T",
        "colab_type": "code",
        "outputId": "8a12ed5f-58f1-40cd-a851-92fe93e65aec",
        "colab": {
          "base_uri": "https://localhost:8080/",
          "height": 804
        }
      },
      "source": [
        "plot_against_attr(\"Density\")\n",
        "plot_against_attr(\"Citric_acid\")\n",
        "plot_against_attr(\"Alcohol\")"
      ],
      "execution_count": 9,
      "outputs": [
        {
          "output_type": "display_data",
          "data": {
            "image/png": "[encoded data removed]",
            "text/plain": [
              "<Figure size 432x288 with 1 Axes>"
            ]
          },
          "metadata": {
            "tags": [],
            "needs_background": "light"
          }
        },
        {
          "output_type": "display_data",
          "data": {
            "image/png": "[encoded data removed]",
            "text/plain": [
              "<Figure size 432x288 with 1 Axes>"
            ]
          },
          "metadata": {
            "tags": [],
            "needs_background": "light"
          }
        },
        {
          "output_type": "display_data",
          "data": {
            "image/png": "[encoded data removed]",
            "text/plain": [
              "<Figure size 432x288 with 1 Axes>"
            ]
          },
          "metadata": {
            "tags": [],
            "needs_background": "light"
          }
        }
      ]
    },
    {
      "cell_type": "code",
      "metadata": {
        "colab_type": "code",
        "id": "FJOYAEUTDmAb",
        "colab": {}
      },
      "source": [
        "# Scale\n",
        "\n",
        "quality_backup = df3[\"Quality\"]\n",
        "scaler = MinMaxScaler()\n",
        "df_scaled = pd.DataFrame(scaler.fit_transform(df3), columns = df3.columns)\n",
        "df_scaled['Quality'] = quality_backup #restore quality values\n",
        "\n",
        "    \n",
        "\n",
        "max_size = df_scaled['Quality'].value_counts().max()\n",
        "lst = [df_scaled]\n",
        "for class_index, group in df_scaled.groupby('Quality'):\n",
        "    lst.append(group.sample(max_size-len(group), replace=True))\n",
        "frame_new = pd.concat(lst)\n",
        "\n",
        "df_scaled2=frame_new\n",
        "df_scaled2[\"Quality\"].value_counts()\n",
        "\n",
        "#shuffle\n",
        "df_scaled3=df_scaled2.sample(frac=1)"
      ],
      "execution_count": 0,
      "outputs": []
    },
    {
      "cell_type": "code",
      "metadata": {
        "colab_type": "code",
        "id": "uCqHM5XxDl9l",
        "colab": {}
      },
      "source": [
        "train = df_scaled3.iloc[:3686]\n",
        "val = df_scaled3.iloc[3686:3886]\n",
        "test = df_scaled3.iloc[3886:]"
      ],
      "execution_count": 0,
      "outputs": []
    },
    {
      "cell_type": "code",
      "metadata": {
        "colab_type": "code",
        "id": "aLBgWb-bDl8H",
        "outputId": "3a9ab5ce-a48b-466f-ba91-44e1f7f5e030",
        "colab": {
          "base_uri": "https://localhost:8080/",
          "height": 136
        }
      },
      "source": [
        "train[\"Quality\"].value_counts()"
      ],
      "execution_count": 12,
      "outputs": [
        {
          "output_type": "execute_result",
          "data": {
            "text/plain": [
              "3.0    625\n",
              "5.0    616\n",
              "4.0    615\n",
              "8.0    615\n",
              "7.0    610\n",
              "6.0    605\n",
              "Name: Quality, dtype: int64"
            ]
          },
          "metadata": {
            "tags": []
          },
          "execution_count": 12
        }
      ]
    },
    {
      "cell_type": "code",
      "metadata": {
        "colab_type": "code",
        "id": "CS5SFLwUDl5t",
        "outputId": "14dd2626-795f-4850-cd36-b03e8d6b3e67",
        "colab": {
          "base_uri": "https://localhost:8080/",
          "height": 51
        }
      },
      "source": [
        "X_train, y_train= train.drop('Quality', axis=1), train['Quality']\n",
        "print(X_train.shape)\n",
        "\n",
        "X_val, y_val = val.drop('Quality', axis=1), val['Quality']\n",
        "print(X_val.shape)\n",
        "\n",
        "X_test, y_test = test.drop(\"Quality\", axis=1), test[\"Quality\"]\n"
      ],
      "execution_count": 13,
      "outputs": [
        {
          "output_type": "stream",
          "text": [
            "(3686, 11)\n",
            "(200, 11)\n"
          ],
          "name": "stdout"
        }
      ]
    },
    {
      "cell_type": "code",
      "metadata": {
        "colab_type": "code",
        "id": "AsLdat2eE2OO",
        "outputId": "730e426c-1c54-4212-86b1-749a69b86af1",
        "colab": {
          "base_uri": "https://localhost:8080/",
          "height": 34
        }
      },
      "source": [
        "f=15# no. of batches\n",
        "\n",
        "train_batch = np.array_split(X_train, f) \n",
        "label_batch = np.array_split(y_train, f) # 50 sections/batches\n",
        "\n",
        "val_batch = np.array_split(X_val, f)\n",
        "val_label_batch = np.array_split(y_val, f)\n",
        "\n",
        "test_batch = np.array_split(X_test,f) \n",
        "test_label_batch  = np.array_split(y_test, f)\n",
        "\n",
        "\n",
        "for i in range(len(train_batch)):\n",
        "    train_batch[i] = torch.from_numpy(train_batch[i].values).float()\n",
        "for i in range(len(label_batch)):\n",
        "    label_batch[i] = torch.from_numpy(label_batch[i].values).float().view(-1, 1)\n",
        "    \n",
        "for i in range(len(val_batch)):\n",
        "    val_batch[i] = torch.from_numpy(val_batch[i].values).float()\n",
        "for i in range(len(val_label_batch)):\n",
        "    val_label_batch[i] = torch.from_numpy(val_label_batch[i].values).float().view(-1, 1)\n",
        "    \n",
        "    \n",
        "    \n",
        "for i in range(len(test_batch)):\n",
        "    test_batch[i] = torch.from_numpy(test_batch[i].values).float()\n",
        "for i in range(len(test_label_batch)):\n",
        "    test_label_batch[i] = torch.from_numpy(test_label_batch[i].values).float().view(-1, 1)\n",
        "    \n",
        "    \n",
        "    \n",
        "print(len(train_batch[0]))\n"
      ],
      "execution_count": 14,
      "outputs": [
        {
          "output_type": "stream",
          "text": [
            "246\n"
          ],
          "name": "stdout"
        }
      ]
    },
    {
      "cell_type": "code",
      "metadata": {
        "colab_type": "code",
        "id": "Ml1BgIpxE2L9",
        "colab": {}
      },
      "source": [
        "class Regressor(nn.Module):\n",
        "    def __init__(self):\n",
        "        super().__init__()\n",
        "        \n",
        "        self.fc1 = nn.Linear(11, 22)\n",
        "        self.fc2 = nn.Linear(22, 44)\n",
        "        self.fc3 = nn.Linear(44, 88)\n",
        "        self.fc4 = nn.Linear(88, 176)\n",
        "        self.fc5 = nn.Linear(176, 88)\n",
        "        self.fc6 = nn.Linear(88, 22)\n",
        "        self.fc7 = nn.Linear(22, 1)\n",
        "       \n",
        "    def forward(self, x):\n",
        "        \n",
        "        x = F.relu(self.fc1(x))\n",
        "        x = F.relu(self.fc2(x))\n",
        "        x = F.relu(self.fc3(x))\n",
        "        x = F.relu(self.fc4(x))\n",
        "        x = F.relu(self.fc5(x))\n",
        "        x = F.relu(self.fc6(x))\n",
        "        x = F.relu(self.fc7(x))\n",
        "\n",
        "        return x\n",
        "\n",
        "model = Regressor()\n",
        "train_losses, val_losses = [], []\n",
        "criterion = nn.MSELoss()\n",
        "optimizer = optim.Adam(model.parameters(), lr=0.01) # 0.015 87\n",
        "scheduler = torch.optim.lr_scheduler.ReduceLROnPlateau(optimizer, 'min',factor=0.1, patience=7) \n",
        "\n",
        "total_epochs=0\n"
      ],
      "execution_count": 0,
      "outputs": []
    },
    {
      "cell_type": "code",
      "metadata": {
        "colab_type": "code",
        "id": "HvTIRas7E2Ku",
        "colab": {}
      },
      "source": [
        "\n",
        "#print(model)\n",
        "epochs = 1000\n",
        "total_epochs+=epochs\n",
        "\n",
        "for e in tnrange(epochs):\n",
        "    \n",
        "    model.train()\n",
        "    train_loss = 0\n",
        "    val_loss_1=0\n",
        "    val_loss_sum = 0\n",
        "    \n",
        "    \n",
        "    for i in range(len(train_batch)):\n",
        "        \n",
        "        optimizer.zero_grad()\n",
        "        output = model(train_batch[i])\n",
        "        loss = criterion(output, label_batch[i])\n",
        "        loss.backward()\n",
        "        optimizer.step()\n",
        "        train_loss += loss.item()\n",
        "    \n",
        "        with torch.no_grad():\n",
        "            \n",
        "            for j in range(len(val_batch)):\n",
        "                \n",
        "                val_output = model(val_batch[j])\n",
        "                val_loss =  criterion(val_output, val_label_batch[j])\n",
        "                val_loss_1+=val_loss.item()\n",
        "        val_loss_sum=val_loss_1/len(val_batch)\n",
        "        \n",
        "        \n",
        "    print(\"Epoch :\", e, \"train_loss :\", train_loss/len(train_batch), \"Val loss: \", val_loss_sum/len(val_batch))    \n",
        "    val_losses.append(val_loss_sum/len(val_batch))    \n",
        "    train_losses.append(train_loss/len(train_batch))   "
      ],
      "execution_count": 0,
      "outputs": []
    },
    {
      "cell_type": "code",
      "metadata": {
        "colab_type": "code",
        "id": "g3uZMDqrE2Iu",
        "outputId": "afe139c2-8826-4a13-acd7-2fab0b67efa2",
        "colab": {
          "base_uri": "https://localhost:8080/",
          "height": 282
        }
      },
      "source": [
        "f=10\n",
        "\n",
        "plt.plot(train_losses[f:], label='Training loss')\n",
        "plt.plot(val_losses[f:], label='Validation loss')\n",
        "plt.grid()\n",
        "plt.legend()"
      ],
      "execution_count": 20,
      "outputs": [
        {
          "output_type": "execute_result",
          "data": {
            "text/plain": [
              "<matplotlib.legend.Legend at 0x7f73bf8331d0>"
            ]
          },
          "metadata": {
            "tags": []
          },
          "execution_count": 20
        },
        {
          "output_type": "display_data",
          "data": {
            "image/png": "[encoded data removed]",
            "text/plain": [
              "<Figure size 432x288 with 1 Axes>"
            ]
          },
          "metadata": {
            "tags": [],
            "needs_background": "light"
          }
        }
      ]
    },
    {
      "cell_type": "code",
      "metadata": {
        "id": "9F_hw2FzWTlT",
        "colab_type": "code",
        "colab": {}
      },
      "source": [
        "torch.save(model.state_dict(), '/content/gdrive/My Drive/Wine_Quality/model_92.pt')\n"
      ],
      "execution_count": 0,
      "outputs": []
    },
    {
      "cell_type": "code",
      "metadata": {
        "id": "4LF-zblGRQ1B",
        "colab_type": "code",
        "outputId": "9473ffce-f790-45cd-c8b4-b085c029e596",
        "colab": {
          "base_uri": "https://localhost:8080/",
          "height": 34
        }
      },
      "source": [
        "model.load_state_dict(torch.load('/content/gdrive/My Drive/Wine_Quality/model_92.pt'))"
      ],
      "execution_count": 23,
      "outputs": [
        {
          "output_type": "execute_result",
          "data": {
            "text/plain": [
              "<All keys matched successfully>"
            ]
          },
          "metadata": {
            "tags": []
          },
          "execution_count": 23
        }
      ]
    },
    {
      "cell_type": "code",
      "metadata": {
        "id": "CRm4OS3IRq22",
        "colab_type": "code",
        "outputId": "fb39ef71-f026-41f3-c38f-9069f735ace8",
        "colab": {
          "base_uri": "https://localhost:8080/",
          "height": 34
        }
      },
      "source": [
        "correct=0\n",
        "i=0\n",
        "res=[]\n",
        "with torch.no_grad():\n",
        "    for batch in test_batch :\n",
        "        for j in range(len(batch)):\n",
        "            x = model(batch[j])\n",
        "            #print(round(x.item()))\n",
        "            res.append(round(x.item()))\n",
        "\n",
        "true_labels= list(test[\"Quality\"])\n",
        "\n",
        "for i in range(len(res)):\n",
        "    if res[i]==int(true_labels[i]):\n",
        "        correct+=1\n",
        "        \n",
        "print(\"Accuracy:\", correct/len(res))"
      ],
      "execution_count": 24,
      "outputs": [
        {
          "output_type": "stream",
          "text": [
            "Accuracy: 0.92\n"
          ],
          "name": "stdout"
        }
      ]
    }
  ]
}