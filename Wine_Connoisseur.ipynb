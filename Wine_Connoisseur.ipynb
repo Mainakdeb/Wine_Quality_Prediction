{
  "nbformat": 4,
  "nbformat_minor": 0,
  "metadata": {
    "accelerator": "GPU",
    "colab": {
      "name": "Wine_Connoisseur.ipynb",
      "provenance": [],
      "collapsed_sections": [],
      "include_colab_link": true
    },
    "kernelspec": {
      "display_name": "Python 3",
      "language": "python",
      "name": "python3"
    },
    "language_info": {
      "codemirror_mode": {
        "name": "ipython",
        "version": 3
      },
      "file_extension": ".py",
      "mimetype": "text/x-python",
      "name": "python",
      "nbconvert_exporter": "python",
      "pygments_lexer": "ipython3",
      "version": "3.7.3"
    }
  },
  "cells": [
    {
      "cell_type": "markdown",
      "metadata": {
        "id": "view-in-github",
        "colab_type": "text"
      },
      "source": [
        "<a href=\"https://colab.research.google.com/github/Mainakdeb/Wine_Quality_Prediction/blob/master/Wine_Connoisseur.ipynb\" target=\"_parent\"><img src=\"https://colab.research.google.com/assets/colab-badge.svg\" alt=\"Open In Colab\"/></a>"
      ]
    },
    {
      "cell_type": "code",
      "metadata": {
        "colab_type": "code",
        "id": "0qMVtWUVDT4P",
        "colab": {}
      },
      "source": [
        "from google.colab import drive\n",
        "drive.mount('/content/gdrive')"
      ],
      "execution_count": 0,
      "outputs": []
    },
    {
      "cell_type": "code",
      "metadata": {
        "colab_type": "code",
        "id": "sX-tdVX9D9t3",
        "colab": {}
      },
      "source": [
        "import pandas as pd\n",
        "import matplotlib.pyplot as plt\n",
        "import numpy as np\n",
        "import seaborn as sn\n",
        "from sklearn.preprocessing import MinMaxScaler\n",
        "import torch\n",
        "from torch import nn, optim\n",
        "import torch.nn.functional as F\n",
        "import tqdm\n",
        "from tqdm import tnrange"
      ],
      "execution_count": 0,
      "outputs": []
    },
    {
      "cell_type": "markdown",
      "metadata": {
        "id": "piTKw4F7tYra",
        "colab_type": "text"
      },
      "source": [
        "### The Data :"
      ]
    },
    {
      "cell_type": "code",
      "metadata": {
        "colab_type": "code",
        "id": "iIq7JlmpDmYb",
        "colab": {
          "base_uri": "https://localhost:8080/",
          "height": 211
        },
        "outputId": "6caf5c72-e226-448f-fa24-db89f72c996c"
      },
      "source": [
        "df = pd.read_csv('/content/gdrive/My Drive/Wine_Quality/winequality-red.csv')\n",
        "df.head()"
      ],
      "execution_count": 41,
      "outputs": [
        {
          "output_type": "execute_result",
          "data": {
            "text/html": [
              "<div>\n",
              "<style scoped>\n",
              "    .dataframe tbody tr th:only-of-type {\n",
              "        vertical-align: middle;\n",
              "    }\n",
              "\n",
              "    .dataframe tbody tr th {\n",
              "        vertical-align: top;\n",
              "    }\n",
              "\n",
              "    .dataframe thead th {\n",
              "        text-align: right;\n",
              "    }\n",
              "</style>\n",
              "<table border=\"1\" class=\"dataframe\">\n",
              "  <thead>\n",
              "    <tr style=\"text-align: right;\">\n",
              "      <th></th>\n",
              "      <th>fixed acidity;\"volatile acidity\";\"citric acid\";\"residual sugar\";\"chlorides\";\"free sulfur dioxide\";\"total sulfur dioxide\";\"density\";\"pH\";\"sulphates\";\"alcohol\";\"quality\"</th>\n",
              "    </tr>\n",
              "  </thead>\n",
              "  <tbody>\n",
              "    <tr>\n",
              "      <th>0</th>\n",
              "      <td>7.4;0.7;0;1.9;0.076;11;34;0.9978;3.51;0.56;9.4;5</td>\n",
              "    </tr>\n",
              "    <tr>\n",
              "      <th>1</th>\n",
              "      <td>7.8;0.88;0;2.6;0.098;25;67;0.9968;3.2;0.68;9.8;5</td>\n",
              "    </tr>\n",
              "    <tr>\n",
              "      <th>2</th>\n",
              "      <td>7.8;0.76;0.04;2.3;0.092;15;54;0.997;3.26;0.65;...</td>\n",
              "    </tr>\n",
              "    <tr>\n",
              "      <th>3</th>\n",
              "      <td>11.2;0.28;0.56;1.9;0.075;17;60;0.998;3.16;0.58...</td>\n",
              "    </tr>\n",
              "    <tr>\n",
              "      <th>4</th>\n",
              "      <td>7.4;0.7;0;1.9;0.076;11;34;0.9978;3.51;0.56;9.4;5</td>\n",
              "    </tr>\n",
              "  </tbody>\n",
              "</table>\n",
              "</div>"
            ],
            "text/plain": [
              "  fixed acidity;\"volatile acidity\";\"citric acid\";\"residual sugar\";\"chlorides\";\"free sulfur dioxide\";\"total sulfur dioxide\";\"density\";\"pH\";\"sulphates\";\"alcohol\";\"quality\"\n",
              "0   7.4;0.7;0;1.9;0.076;11;34;0.9978;3.51;0.56;9.4;5                                                                                                                     \n",
              "1   7.8;0.88;0;2.6;0.098;25;67;0.9968;3.2;0.68;9.8;5                                                                                                                     \n",
              "2  7.8;0.76;0.04;2.3;0.092;15;54;0.997;3.26;0.65;...                                                                                                                     \n",
              "3  11.2;0.28;0.56;1.9;0.075;17;60;0.998;3.16;0.58...                                                                                                                     \n",
              "4   7.4;0.7;0;1.9;0.076;11;34;0.9978;3.51;0.56;9.4;5                                                                                                                     "
            ]
          },
          "metadata": {
            "tags": []
          },
          "execution_count": 41
        }
      ]
    },
    {
      "cell_type": "markdown",
      "metadata": {
        "id": "F4Sq2E8Cn_X0",
        "colab_type": "text"
      },
      "source": [
        "### Seperate the columns:"
      ]
    },
    {
      "cell_type": "code",
      "metadata": {
        "colab_type": "code",
        "id": "kJELNelcDmWT",
        "colab": {
          "base_uri": "https://localhost:8080/",
          "height": 214
        },
        "outputId": "0e7d2b71-b5e1-4311-9c41-53e9c3760838"
      },
      "source": [
        "split_data = df['fixed acidity;\"volatile acidity\";\"citric acid\";\"residual sugar\";\"chlorides\";\"free sulfur dioxide\";\"total sulfur dioxide\";\"density\";\"pH\";\"sulphates\";\"alcohol\";\"quality\"'].str.split(\";\")\n",
        "\n",
        "data = split_data.to_list()\n",
        "\n",
        "names = [\"Fixed_acidity\", \"Volatile_acidity\", \"Citric_acid\", \"Residual_sugar\", \"Chlorides\", \"Free_sulfur_dioxide\", \"Total_sulfur_Dioxide\", \"Density\", \"pH\", \"Sulphates\", \"Alcohol\", \"Quality\"]\n",
        "\n",
        "df2 = pd.DataFrame(data, columns=names)\n",
        "df2.head()"
      ],
      "execution_count": 42,
      "outputs": [
        {
          "output_type": "execute_result",
          "data": {
            "text/html": [
              "<div>\n",
              "<style scoped>\n",
              "    .dataframe tbody tr th:only-of-type {\n",
              "        vertical-align: middle;\n",
              "    }\n",
              "\n",
              "    .dataframe tbody tr th {\n",
              "        vertical-align: top;\n",
              "    }\n",
              "\n",
              "    .dataframe thead th {\n",
              "        text-align: right;\n",
              "    }\n",
              "</style>\n",
              "<table border=\"1\" class=\"dataframe\">\n",
              "  <thead>\n",
              "    <tr style=\"text-align: right;\">\n",
              "      <th></th>\n",
              "      <th>Fixed_acidity</th>\n",
              "      <th>Volatile_acidity</th>\n",
              "      <th>Citric_acid</th>\n",
              "      <th>Residual_sugar</th>\n",
              "      <th>Chlorides</th>\n",
              "      <th>Free_sulfur_dioxide</th>\n",
              "      <th>Total_sulfur_Dioxide</th>\n",
              "      <th>Density</th>\n",
              "      <th>pH</th>\n",
              "      <th>Sulphates</th>\n",
              "      <th>Alcohol</th>\n",
              "      <th>Quality</th>\n",
              "    </tr>\n",
              "  </thead>\n",
              "  <tbody>\n",
              "    <tr>\n",
              "      <th>0</th>\n",
              "      <td>7.4</td>\n",
              "      <td>0.7</td>\n",
              "      <td>0</td>\n",
              "      <td>1.9</td>\n",
              "      <td>0.076</td>\n",
              "      <td>11</td>\n",
              "      <td>34</td>\n",
              "      <td>0.9978</td>\n",
              "      <td>3.51</td>\n",
              "      <td>0.56</td>\n",
              "      <td>9.4</td>\n",
              "      <td>5</td>\n",
              "    </tr>\n",
              "    <tr>\n",
              "      <th>1</th>\n",
              "      <td>7.8</td>\n",
              "      <td>0.88</td>\n",
              "      <td>0</td>\n",
              "      <td>2.6</td>\n",
              "      <td>0.098</td>\n",
              "      <td>25</td>\n",
              "      <td>67</td>\n",
              "      <td>0.9968</td>\n",
              "      <td>3.2</td>\n",
              "      <td>0.68</td>\n",
              "      <td>9.8</td>\n",
              "      <td>5</td>\n",
              "    </tr>\n",
              "    <tr>\n",
              "      <th>2</th>\n",
              "      <td>7.8</td>\n",
              "      <td>0.76</td>\n",
              "      <td>0.04</td>\n",
              "      <td>2.3</td>\n",
              "      <td>0.092</td>\n",
              "      <td>15</td>\n",
              "      <td>54</td>\n",
              "      <td>0.997</td>\n",
              "      <td>3.26</td>\n",
              "      <td>0.65</td>\n",
              "      <td>9.8</td>\n",
              "      <td>5</td>\n",
              "    </tr>\n",
              "    <tr>\n",
              "      <th>3</th>\n",
              "      <td>11.2</td>\n",
              "      <td>0.28</td>\n",
              "      <td>0.56</td>\n",
              "      <td>1.9</td>\n",
              "      <td>0.075</td>\n",
              "      <td>17</td>\n",
              "      <td>60</td>\n",
              "      <td>0.998</td>\n",
              "      <td>3.16</td>\n",
              "      <td>0.58</td>\n",
              "      <td>9.8</td>\n",
              "      <td>6</td>\n",
              "    </tr>\n",
              "    <tr>\n",
              "      <th>4</th>\n",
              "      <td>7.4</td>\n",
              "      <td>0.7</td>\n",
              "      <td>0</td>\n",
              "      <td>1.9</td>\n",
              "      <td>0.076</td>\n",
              "      <td>11</td>\n",
              "      <td>34</td>\n",
              "      <td>0.9978</td>\n",
              "      <td>3.51</td>\n",
              "      <td>0.56</td>\n",
              "      <td>9.4</td>\n",
              "      <td>5</td>\n",
              "    </tr>\n",
              "  </tbody>\n",
              "</table>\n",
              "</div>"
            ],
            "text/plain": [
              "  Fixed_acidity Volatile_acidity Citric_acid  ... Sulphates Alcohol Quality\n",
              "0           7.4              0.7           0  ...      0.56     9.4       5\n",
              "1           7.8             0.88           0  ...      0.68     9.8       5\n",
              "2           7.8             0.76        0.04  ...      0.65     9.8       5\n",
              "3          11.2             0.28        0.56  ...      0.58     9.8       6\n",
              "4           7.4              0.7           0  ...      0.56     9.4       5\n",
              "\n",
              "[5 rows x 12 columns]"
            ]
          },
          "metadata": {
            "tags": []
          },
          "execution_count": 42
        }
      ]
    },
    {
      "cell_type": "markdown",
      "metadata": {
        "id": "TI3nKs4Yon1-",
        "colab_type": "text"
      },
      "source": [
        "### Check for null values:"
      ]
    },
    {
      "cell_type": "code",
      "metadata": {
        "colab_type": "code",
        "id": "8YQipMyWDmTS",
        "outputId": "fb2231f2-410b-4230-d3ee-fa7b1bf17bb6",
        "colab": {
          "base_uri": "https://localhost:8080/",
          "height": 377
        }
      },
      "source": [
        "sn.heatmap(df2.isnull(), yticklabels=False)"
      ],
      "execution_count": 43,
      "outputs": [
        {
          "output_type": "execute_result",
          "data": {
            "text/plain": [
              "<matplotlib.axes._subplots.AxesSubplot at 0x7fac3aa31160>"
            ]
          },
          "metadata": {
            "tags": []
          },
          "execution_count": 43
        },
        {
          "output_type": "display_data",
          "data": {
            "image/png": "[encoded data removed]",
            "text/plain": [
              "<Figure size 432x288 with 2 Axes>"
            ]
          },
          "metadata": {
            "tags": [],
            "needs_background": "light"
          }
        }
      ]
    },
    {
      "cell_type": "code",
      "metadata": {
        "colab_type": "code",
        "id": "1DtdlQcODmHB",
        "outputId": "3f2e5a2d-aa65-42be-dffc-9029fb362b59",
        "colab": {
          "base_uri": "https://localhost:8080/",
          "height": 355
        }
      },
      "source": [
        "df2.info()"
      ],
      "execution_count": 44,
      "outputs": [
        {
          "output_type": "stream",
          "text": [
            "<class 'pandas.core.frame.DataFrame'>\n",
            "RangeIndex: 1599 entries, 0 to 1598\n",
            "Data columns (total 12 columns):\n",
            " #   Column                Non-Null Count  Dtype \n",
            "---  ------                --------------  ----- \n",
            " 0   Fixed_acidity         1599 non-null   object\n",
            " 1   Volatile_acidity      1599 non-null   object\n",
            " 2   Citric_acid           1599 non-null   object\n",
            " 3   Residual_sugar        1599 non-null   object\n",
            " 4   Chlorides             1599 non-null   object\n",
            " 5   Free_sulfur_dioxide   1599 non-null   object\n",
            " 6   Total_sulfur_Dioxide  1599 non-null   object\n",
            " 7   Density               1599 non-null   object\n",
            " 8   pH                    1599 non-null   object\n",
            " 9   Sulphates             1599 non-null   object\n",
            " 10  Alcohol               1599 non-null   object\n",
            " 11  Quality               1599 non-null   object\n",
            "dtypes: object(12)\n",
            "memory usage: 150.0+ KB\n"
          ],
          "name": "stdout"
        }
      ]
    },
    {
      "cell_type": "markdown",
      "metadata": {
        "id": "J7DadPEKo6qg",
        "colab_type": "text"
      },
      "source": [
        "### Convert all values into float:"
      ]
    },
    {
      "cell_type": "code",
      "metadata": {
        "colab_type": "code",
        "id": "MlIuuGRTDmE4",
        "colab": {}
      },
      "source": [
        "df3 = df2.astype(float)"
      ],
      "execution_count": 0,
      "outputs": []
    },
    {
      "cell_type": "markdown",
      "metadata": {
        "id": "cP2EEDEdpBpE",
        "colab_type": "text"
      },
      "source": [
        "### Plot Correlation Matrix :"
      ]
    },
    {
      "cell_type": "code",
      "metadata": {
        "colab_type": "code",
        "id": "V3gp5GC8DmC3",
        "outputId": "3485b0a0-87eb-4f95-a279-f6b6f0b970e3",
        "scrolled": true,
        "colab": {
          "base_uri": "https://localhost:8080/",
          "height": 359
        }
      },
      "source": [
        "sn.heatmap(df3.corr(), cmap=sn.diverging_palette(220, 10, as_cmap=True))\n",
        "plt.show()"
      ],
      "execution_count": 46,
      "outputs": [
        {
          "output_type": "display_data",
          "data": {
            "image/png": "[encoded data removed]",
            "text/plain": [
              "<Figure size 432x288 with 2 Axes>"
            ]
          },
          "metadata": {
            "tags": [],
            "needs_background": "light"
          }
        }
      ]
    },
    {
      "cell_type": "markdown",
      "metadata": {
        "id": "c5LtHNOnpMLE",
        "colab_type": "text"
      },
      "source": [
        "### A Few More Plots :"
      ]
    },
    {
      "cell_type": "code",
      "metadata": {
        "id": "WSfh18ih-T_H",
        "colab_type": "code",
        "colab": {
          "base_uri": "https://localhost:8080/",
          "height": 804
        },
        "outputId": "c844dd98-1feb-4716-b5d4-9df7593cf3ba"
      },
      "source": [
        "def plot_against_attr(attribute):\n",
        "    #attribute=\"Density\"\n",
        "    x = list(df3[attribute])\n",
        "    y = list(df3['Quality'])\n",
        "    y, x = zip(*sorted(zip(y, x)))\n",
        "    plt.plot(x,y,'o')\n",
        "    plt.xlabel(attribute)\n",
        "    plt.xticks()\n",
        "    plt.ylabel('Quality')\n",
        "    plt.grid()\n",
        "\n",
        "    z = np.polyfit(x, y, 1)\n",
        "    p = np.poly1d(z)\n",
        "    plt.plot(x,p(x),\"r--\")\n",
        "    plt.show()\n",
        "    \n",
        "plot_against_attr(\"Density\")\n",
        "plot_against_attr(\"Citric_acid\")\n",
        "plot_against_attr(\"Alcohol\")"
      ],
      "execution_count": 74,
      "outputs": [
        {
          "output_type": "display_data",
          "data": {
            "image/png": "[encoded data removed]",
            "text/plain": [
              "<Figure size 432x288 with 1 Axes>"
            ]
          },
          "metadata": {
            "tags": [],
            "needs_background": "light"
          }
        },
        {
          "output_type": "display_data",
          "data": {
            "image/png": "[encoded data removed]",
            "text/plain": [
              "<Figure size 432x288 with 1 Axes>"
            ]
          },
          "metadata": {
            "tags": [],
            "needs_background": "light"
          }
        },
        {
          "output_type": "display_data",
          "data": {
            "image/png": "[encoded data removed]",
            "text/plain": [
              "<Figure size 432x288 with 1 Axes>"
            ]
          },
          "metadata": {
            "tags": [],
            "needs_background": "light"
          }
        }
      ]
    },
    {
      "cell_type": "markdown",
      "metadata": {
        "id": "6UwfkR4_pXcV",
        "colab_type": "text"
      },
      "source": [
        "### Scale all values :"
      ]
    },
    {
      "cell_type": "code",
      "metadata": {
        "colab_type": "code",
        "id": "FJOYAEUTDmAb",
        "colab": {}
      },
      "source": [
        "quality_backup = df3[\"Quality\"]\n",
        "scaler = MinMaxScaler()\n",
        "df_scaled = pd.DataFrame(scaler.fit_transform(df3), columns = df3.columns)\n",
        "df_scaled['Quality'] = quality_backup #restore quality values"
      ],
      "execution_count": 0,
      "outputs": []
    },
    {
      "cell_type": "markdown",
      "metadata": {
        "id": "LncrQoQJz68E",
        "colab_type": "text"
      },
      "source": [
        "### Balance Data :"
      ]
    },
    {
      "cell_type": "code",
      "metadata": {
        "id": "HQ-ct2doz2v2",
        "colab_type": "code",
        "colab": {
          "base_uri": "https://localhost:8080/",
          "height": 141
        },
        "outputId": "c0444ccf-9d7f-4dda-ed60-9a73cb70aacb"
      },
      "source": [
        "max_size = df_scaled['Quality'].value_counts().max()\n",
        "lst = [df_scaled]\n",
        "for class_index, group in df_scaled.groupby('Quality'):\n",
        "    lst.append(group.sample(max_size-len(group), replace=True))\n",
        "frame_new = pd.concat(lst)\n",
        "df_scaled2=frame_new\n",
        "df_scaled2[\"Quality\"].value_counts()"
      ],
      "execution_count": 114,
      "outputs": [
        {
          "output_type": "execute_result",
          "data": {
            "text/plain": [
              "3.0    681\n",
              "8.0    681\n",
              "4.0    681\n",
              "7.0    681\n",
              "6.0    681\n",
              "5.0    681\n",
              "Name: Quality, dtype: int64"
            ]
          },
          "metadata": {
            "tags": []
          },
          "execution_count": 114
        }
      ]
    },
    {
      "cell_type": "markdown",
      "metadata": {
        "id": "tDlYrJ0OpqRs",
        "colab_type": "text"
      },
      "source": [
        "### Shuffle Data :"
      ]
    },
    {
      "cell_type": "code",
      "metadata": {
        "id": "1GeElgCspi1Z",
        "colab_type": "code",
        "colab": {}
      },
      "source": [
        "df_scaled3=df_scaled2.sample(frac=1)"
      ],
      "execution_count": 0,
      "outputs": []
    },
    {
      "cell_type": "markdown",
      "metadata": {
        "id": "CYSzFF6qpuak",
        "colab_type": "text"
      },
      "source": [
        "### Split into train, test and val set :"
      ]
    },
    {
      "cell_type": "code",
      "metadata": {
        "colab_type": "code",
        "id": "uCqHM5XxDl9l",
        "colab": {}
      },
      "source": [
        "train = df_scaled3.iloc[:3686]\n",
        "val = df_scaled3.iloc[3686:3886]\n",
        "test = df_scaled3.iloc[3886:]"
      ],
      "execution_count": 0,
      "outputs": []
    },
    {
      "cell_type": "markdown",
      "metadata": {
        "id": "H5uHURqHqAWU",
        "colab_type": "text"
      },
      "source": [
        "### Class distribution in the train-set :"
      ]
    },
    {
      "cell_type": "code",
      "metadata": {
        "colab_type": "code",
        "id": "aLBgWb-bDl8H",
        "outputId": "f887376d-90a0-482d-85c0-8e32aeaf1a26",
        "colab": {
          "base_uri": "https://localhost:8080/",
          "height": 141
        }
      },
      "source": [
        "train[\"Quality\"].value_counts()"
      ],
      "execution_count": 52,
      "outputs": [
        {
          "output_type": "execute_result",
          "data": {
            "text/plain": [
              "8.0    630\n",
              "5.0    620\n",
              "6.0    619\n",
              "4.0    612\n",
              "7.0    603\n",
              "3.0    602\n",
              "Name: Quality, dtype: int64"
            ]
          },
          "metadata": {
            "tags": []
          },
          "execution_count": 52
        }
      ]
    },
    {
      "cell_type": "markdown",
      "metadata": {
        "id": "SRPWhLGhrYOt",
        "colab_type": "text"
      },
      "source": [
        "### Split features and labels :"
      ]
    },
    {
      "cell_type": "code",
      "metadata": {
        "colab_type": "code",
        "id": "CS5SFLwUDl5t",
        "outputId": "0b77d1da-aacb-47e3-d567-c944f138bdb2",
        "colab": {
          "base_uri": "https://localhost:8080/",
          "height": 52
        }
      },
      "source": [
        "X_train, y_train= train.drop('Quality', axis=1), train['Quality']\n",
        "print(X_train.shape)\n",
        "\n",
        "X_val, y_val = val.drop('Quality', axis=1), val['Quality']\n",
        "print(X_val.shape)\n",
        "\n",
        "X_test, y_test = test.drop(\"Quality\", axis=1), test[\"Quality\"]"
      ],
      "execution_count": 53,
      "outputs": [
        {
          "output_type": "stream",
          "text": [
            "(3686, 11)\n",
            "(200, 11)\n"
          ],
          "name": "stdout"
        }
      ]
    },
    {
      "cell_type": "markdown",
      "metadata": {
        "id": "xU3PZCxgsNmC",
        "colab_type": "text"
      },
      "source": [
        "### Split into batches :"
      ]
    },
    {
      "cell_type": "code",
      "metadata": {
        "colab_type": "code",
        "id": "AsLdat2eE2OO",
        "outputId": "7d958f9c-1709-4810-b1ff-f6ca9c53a247",
        "colab": {
          "base_uri": "https://localhost:8080/",
          "height": 35
        }
      },
      "source": [
        "f=15 # no. of batches\n",
        "\n",
        "train_batch = np.array_split(X_train, f) \n",
        "label_batch = np.array_split(y_train, f) # 50 sections/batches\n",
        "\n",
        "val_batch = np.array_split(X_val, f)\n",
        "val_label_batch = np.array_split(y_val, f)\n",
        "\n",
        "test_batch = np.array_split(X_test,f) \n",
        "test_label_batch  = np.array_split(y_test, f)\n",
        "\n",
        "\n",
        "for i in range(len(train_batch)):\n",
        "    train_batch[i] = torch.from_numpy(train_batch[i].values).float()\n",
        "for i in range(len(label_batch)):\n",
        "    label_batch[i] = torch.from_numpy(label_batch[i].values).float().view(-1, 1)\n",
        "    \n",
        "for i in range(len(val_batch)):\n",
        "    val_batch[i] = torch.from_numpy(val_batch[i].values).float()\n",
        "for i in range(len(val_label_batch)):\n",
        "    val_label_batch[i] = torch.from_numpy(val_label_batch[i].values).float().view(-1, 1)\n",
        "    \n",
        "    \n",
        "for i in range(len(test_batch)):\n",
        "    test_batch[i] = torch.from_numpy(test_batch[i].values).float()\n",
        "for i in range(len(test_label_batch)):\n",
        "    test_label_batch[i] = torch.from_numpy(test_label_batch[i].values).float().view(-1, 1)\n",
        "    \n",
        "print(\"Batch size:\", len(train_batch[0]))\n"
      ],
      "execution_count": 54,
      "outputs": [
        {
          "output_type": "stream",
          "text": [
            "Batch size: 246\n"
          ],
          "name": "stdout"
        }
      ]
    },
    {
      "cell_type": "markdown",
      "metadata": {
        "id": "UqMR4-U5sVcE",
        "colab_type": "text"
      },
      "source": [
        "### The Model :"
      ]
    },
    {
      "cell_type": "code",
      "metadata": {
        "colab_type": "code",
        "id": "Ml1BgIpxE2L9",
        "colab": {}
      },
      "source": [
        "class Regressor(nn.Module):\n",
        "    def __init__(self):\n",
        "        super().__init__()\n",
        "        \n",
        "        self.fc1 = nn.Linear(11, 22)\n",
        "        self.fc2 = nn.Linear(22, 44)\n",
        "        self.fc3 = nn.Linear(44, 88)\n",
        "        self.fc4 = nn.Linear(88, 176)\n",
        "        self.fc5 = nn.Linear(176, 88)\n",
        "        self.fc6 = nn.Linear(88, 22)\n",
        "        self.fc7 = nn.Linear(22, 1)\n",
        "       \n",
        "    def forward(self, x):\n",
        "        \n",
        "        x = F.relu(self.fc1(x))\n",
        "        x = F.relu(self.fc2(x))\n",
        "        x = F.relu(self.fc3(x))\n",
        "        x = F.relu(self.fc4(x))\n",
        "        x = F.relu(self.fc5(x))\n",
        "        x = F.relu(self.fc6(x))\n",
        "        x = F.relu(self.fc7(x))\n",
        "\n",
        "        return x\n",
        "\n",
        "model = Regressor()\n",
        "train_losses, val_losses = [], []\n",
        "criterion = nn.MSELoss()\n",
        "optimizer = optim.Adam(model.parameters(), lr=0.01) # 0.015 87\n",
        "scheduler = torch.optim.lr_scheduler.ReduceLROnPlateau(optimizer, 'min',factor=0.1, patience=15) \n",
        "total_epochs=0"
      ],
      "execution_count": 0,
      "outputs": []
    },
    {
      "cell_type": "markdown",
      "metadata": {
        "id": "Ov0p9t03saO6",
        "colab_type": "text"
      },
      "source": [
        "### The training loop :"
      ]
    },
    {
      "cell_type": "code",
      "metadata": {
        "colab_type": "code",
        "id": "HvTIRas7E2Ku",
        "colab": {}
      },
      "source": [
        "#print(model)\n",
        "epochs = 1000\n",
        "total_epochs+=epochs\n",
        "\n",
        "for e in tnrange(epochs):\n",
        "    \n",
        "    model.train()\n",
        "    train_loss = 0\n",
        "    val_loss_1=0\n",
        "    val_loss_sum = 0\n",
        "    \n",
        "    for i in range(len(train_batch)):\n",
        "        \n",
        "        optimizer.zero_grad()\n",
        "        output = model(train_batch[i])\n",
        "        loss = criterion(output, label_batch[i])\n",
        "        loss.backward()\n",
        "        optimizer.step()\n",
        "        train_loss += loss.item()\n",
        "    \n",
        "        with torch.no_grad():\n",
        "            \n",
        "            for j in range(len(val_batch)):\n",
        "                \n",
        "                val_output = model(val_batch[j])\n",
        "                val_loss =  criterion(val_output, val_label_batch[j])\n",
        "                val_loss_1+=val_loss.item()\n",
        "        val_loss_sum=val_loss_1/len(val_batch)\n",
        "        \n",
        "        \n",
        "    print(\"Epoch :\", e, \"train_loss :\", train_loss/len(train_batch), \"Val loss: \", val_loss_sum/len(val_batch))    \n",
        "    val_losses.append(val_loss_sum/len(val_batch))    \n",
        "    train_losses.append(train_loss/len(train_batch))   "
      ],
      "execution_count": 0,
      "outputs": []
    },
    {
      "cell_type": "markdown",
      "metadata": {
        "id": "BGxKLiV0suA8",
        "colab_type": "text"
      },
      "source": [
        "### Training Metrics :"
      ]
    },
    {
      "cell_type": "code",
      "metadata": {
        "colab_type": "code",
        "id": "g3uZMDqrE2Iu",
        "outputId": "b4191f91-8f2e-4ff4-d86b-b1b2b58dc15b",
        "colab": {
          "base_uri": "https://localhost:8080/",
          "height": 298
        }
      },
      "source": [
        "frm=10 # does not \n",
        "plt.plot(train_losses[frm:], label='Training loss')\n",
        "plt.plot(val_losses[frm:], label='Validation loss')\n",
        "plt.xlabel(\"Epochs\")\n",
        "plt.ylabel(\"Loss\")\n",
        "plt.grid()\n",
        "plt.legend()"
      ],
      "execution_count": 73,
      "outputs": [
        {
          "output_type": "execute_result",
          "data": {
            "text/plain": [
              "<matplotlib.legend.Legend at 0x7fac31116be0>"
            ]
          },
          "metadata": {
            "tags": []
          },
          "execution_count": 73
        },
        {
          "output_type": "display_data",
          "data": {
            "image/png": "[encoded data removed]",
            "text/plain": [
              "<Figure size 432x288 with 1 Axes>"
            ]
          },
          "metadata": {
            "tags": [],
            "needs_background": "light"
          }
        }
      ]
    },
    {
      "cell_type": "markdown",
      "metadata": {
        "id": "D4wsNizDs966",
        "colab_type": "text"
      },
      "source": [
        "### Save and load the model :"
      ]
    },
    {
      "cell_type": "code",
      "metadata": {
        "id": "9F_hw2FzWTlT",
        "colab_type": "code",
        "colab": {}
      },
      "source": [
        "torch.save(model.state_dict(), '/content/gdrive/My Drive/Wine_Quality/model_93.pt')\n"
      ],
      "execution_count": 0,
      "outputs": []
    },
    {
      "cell_type": "code",
      "metadata": {
        "id": "4LF-zblGRQ1B",
        "colab_type": "code",
        "outputId": "e9fe7f9b-eb74-4721-9d20-9267fddbd46f",
        "colab": {
          "base_uri": "https://localhost:8080/",
          "height": 35
        }
      },
      "source": [
        "model.load_state_dict(torch.load('/content/gdrive/My Drive/Wine_Quality/model_93.pt'))"
      ],
      "execution_count": 70,
      "outputs": [
        {
          "output_type": "execute_result",
          "data": {
            "text/plain": [
              "<All keys matched successfully>"
            ]
          },
          "metadata": {
            "tags": []
          },
          "execution_count": 70
        }
      ]
    },
    {
      "cell_type": "markdown",
      "metadata": {
        "id": "cdxctDz8tECj",
        "colab_type": "text"
      },
      "source": [
        "### How does the model perform on the test-set?"
      ]
    },
    {
      "cell_type": "code",
      "metadata": {
        "id": "CRm4OS3IRq22",
        "colab_type": "code",
        "outputId": "0a7b802e-e68a-4af0-dd6b-25a64bef8bfb",
        "colab": {
          "base_uri": "https://localhost:8080/",
          "height": 35
        }
      },
      "source": [
        "correct=0\n",
        "i=0\n",
        "res=[]\n",
        "with torch.no_grad():\n",
        "    for batch in test_batch :\n",
        "        for j in range(len(batch)):\n",
        "            x = model(batch[j])\n",
        "            #print(round(x.item()))\n",
        "            res.append(round(x.item()))\n",
        "\n",
        "true_labels= list(test[\"Quality\"])\n",
        "\n",
        "for i in range(len(res)):\n",
        "    if res[i]==int(true_labels[i]):\n",
        "        correct+=1\n",
        "        \n",
        "print(\"Accuracy:\", 100*(correct/len(res)), \"%\")"
      ],
      "execution_count": 72,
      "outputs": [
        {
          "output_type": "stream",
          "text": [
            "Accuracy: 93.0 %\n"
          ],
          "name": "stdout"
        }
      ]
    }
  ]
}
