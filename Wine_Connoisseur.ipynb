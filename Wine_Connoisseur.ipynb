{
 "cells": [
  {
   "cell_type": "code",
   "execution_count": null,
   "metadata": {
    "colab": {
     "base_uri": "https://localhost:8080/",
     "height": 547
    },
    "colab_type": "code",
    "executionInfo": {
     "elapsed": 221522,
     "status": "error",
     "timestamp": 1586027797304,
     "user": {
      "displayName": "Mainak Deb",
      "photoUrl": "https://lh3.googleusercontent.com/a-/AOh14GioklG4WrXJDnpqYhYCi3628HMLmkMeM1wc5sebtcw=s64",
      "userId": "08577913655765659730"
     },
     "user_tz": -330
    },
    "id": "0qMVtWUVDT4P",
    "outputId": "bef5a0eb-4c40-4b49-db10-cff2aeb3b2d2"
   },
   "outputs": [],
   "source": [
    "from google.colab import drive\n",
    "drive.mount('/content/gdrive')"
   ]
  },
  {
   "cell_type": "code",
   "execution_count": 1,
   "metadata": {
    "colab": {
     "base_uri": "https://localhost:8080/",
     "height": 139
    },
    "colab_type": "code",
    "executionInfo": {
     "elapsed": 38755,
     "status": "ok",
     "timestamp": 1586027851036,
     "user": {
      "displayName": "Mainak Deb",
      "photoUrl": "https://lh3.googleusercontent.com/a-/AOh14GioklG4WrXJDnpqYhYCi3628HMLmkMeM1wc5sebtcw=s64",
      "userId": "08577913655765659730"
     },
     "user_tz": -330
    },
    "id": "sX-tdVX9D9t3",
    "outputId": "b3e67f51-460a-494b-c8be-614aa143f78a"
   },
   "outputs": [
    {
     "name": "stderr",
     "output_type": "stream",
     "text": [
      "/home/mainak09/anaconda3/lib/python3.7/site-packages/sklearn/externals/six.py:31: FutureWarning: The module is deprecated in version 0.21 and will be removed in version 0.23 since we've dropped support for Python 2.7. Please rely on the official version of six (https://pypi.org/project/six/).\n",
      "  \"(https://pypi.org/project/six/).\", FutureWarning)\n",
      "/home/mainak09/anaconda3/lib/python3.7/site-packages/sklearn/utils/deprecation.py:144: FutureWarning: The sklearn.neighbors.base module is  deprecated in version 0.22 and will be removed in version 0.24. The corresponding classes / functions should instead be imported from sklearn.neighbors. Anything that cannot be imported from sklearn.neighbors is now part of the private API.\n",
      "  warnings.warn(message, FutureWarning)\n"
     ]
    }
   ],
   "source": [
    "import pandas as pd\n",
    "import matplotlib.pyplot as plt\n",
    "import numpy as np\n",
    "import seaborn as sn\n",
    "from sklearn.preprocessing import MinMaxScaler\n",
    "import torch\n",
    "from torch import nn, optim\n",
    "import torch.nn.functional as F\n",
    "import tqdm\n",
    "from tqdm import tnrange\n",
    "from imblearn.over_sampling import SMOTE"
   ]
  },
  {
   "cell_type": "code",
   "execution_count": 2,
   "metadata": {
    "colab": {},
    "colab_type": "code",
    "id": "iIq7JlmpDmYb"
   },
   "outputs": [],
   "source": [
    "#df = pd.read_csv('./gdrive/My Drive/Wine_Quality/winequality-red.csv')\n",
    "\n",
    "df = pd.read_csv('./winequality-red.csv')"
   ]
  },
  {
   "cell_type": "code",
   "execution_count": 3,
   "metadata": {
    "colab": {},
    "colab_type": "code",
    "id": "kJELNelcDmWT"
   },
   "outputs": [],
   "source": [
    "split_data = df['fixed acidity;\"volatile acidity\";\"citric acid\";\"residual sugar\";\"chlorides\";\"free sulfur dioxide\";\"total sulfur dioxide\";\"density\";\"pH\";\"sulphates\";\"alcohol\";\"quality\"'].str.split(\";\")\n",
    "\n",
    "data = split_data.to_list()\n",
    "\n",
    "names = [\"Fixed_acidity\", \"Volatile_acidity\", \"Citric_acid\", \"Residual_sugar\", \"Chlorides\", \"Free_sulfur_dioxide\", \"Total_sulfur_Dioxide\", \"Density\", \"pH\", \"Sulphates\", \"Alcohol\", \"Quality\"]\n",
    "\n",
    "df2 = pd.DataFrame(data, columns=names)"
   ]
  },
  {
   "cell_type": "code",
   "execution_count": 5,
   "metadata": {
    "colab": {
     "base_uri": "https://localhost:8080/",
     "height": 376
    },
    "colab_type": "code",
    "executionInfo": {
     "elapsed": 38728,
     "status": "ok",
     "timestamp": 1586027851044,
     "user": {
      "displayName": "Mainak Deb",
      "photoUrl": "https://lh3.googleusercontent.com/a-/AOh14GioklG4WrXJDnpqYhYCi3628HMLmkMeM1wc5sebtcw=s64",
      "userId": "08577913655765659730"
     },
     "user_tz": -330
    },
    "id": "8YQipMyWDmTS",
    "outputId": "1dbff540-4efd-4e5d-a937-7dc1d1a913b9"
   },
   "outputs": [
    {
     "data": {
      "text/plain": [
       "<matplotlib.axes._subplots.AxesSubplot at 0x7fb1998b86a0>"
      ]
     },
     "execution_count": 5,
     "metadata": {
      "tags": []
     },
     "output_type": "execute_result"
    },
    {
     "data": {
      "image/png": "[encoded data removed]",
      "text/plain": [
       "<Figure size 432x288 with 2 Axes>"
      ]
     },
     "metadata": {
      "tags": []
     },
     "output_type": "display_data"
    }
   ],
   "source": [
    "sn.heatmap(df2.isnull(), yticklabels=False)"
   ]
  },
  {
   "cell_type": "code",
   "execution_count": 6,
   "metadata": {
    "colab": {
     "base_uri": "https://localhost:8080/",
     "height": 340
    },
    "colab_type": "code",
    "executionInfo": {
     "elapsed": 38722,
     "status": "ok",
     "timestamp": 1586027851045,
     "user": {
      "displayName": "Mainak Deb",
      "photoUrl": "https://lh3.googleusercontent.com/a-/AOh14GioklG4WrXJDnpqYhYCi3628HMLmkMeM1wc5sebtcw=s64",
      "userId": "08577913655765659730"
     },
     "user_tz": -330
    },
    "id": "1DtdlQcODmHB",
    "outputId": "20ce86e0-5af9-499e-f9b8-82f3871d3de2"
   },
   "outputs": [
    {
     "name": "stdout",
     "output_type": "stream",
     "text": [
      "<class 'pandas.core.frame.DataFrame'>\n",
      "RangeIndex: 1599 entries, 0 to 1598\n",
      "Data columns (total 12 columns):\n",
      " #   Column                Non-Null Count  Dtype \n",
      "---  ------                --------------  ----- \n",
      " 0   Fixed_acidity         1599 non-null   object\n",
      " 1   Volatile_acidity      1599 non-null   object\n",
      " 2   Citric_acid           1599 non-null   object\n",
      " 3   Residual_sugar        1599 non-null   object\n",
      " 4   Chlorides             1599 non-null   object\n",
      " 5   Free_sulfur_dioxide   1599 non-null   object\n",
      " 6   Total_sulfur_Dioxide  1599 non-null   object\n",
      " 7   Density               1599 non-null   object\n",
      " 8   pH                    1599 non-null   object\n",
      " 9   Sulphates             1599 non-null   object\n",
      " 10  Alcohol               1599 non-null   object\n",
      " 11  Quality               1599 non-null   object\n",
      "dtypes: object(12)\n",
      "memory usage: 150.0+ KB\n"
     ]
    }
   ],
   "source": [
    "df2.info()"
   ]
  },
  {
   "cell_type": "code",
   "execution_count": 5,
   "metadata": {
    "colab": {},
    "colab_type": "code",
    "id": "MlIuuGRTDmE4"
   },
   "outputs": [],
   "source": [
    "df3 = df2.astype(float)"
   ]
  },
  {
   "cell_type": "code",
   "execution_count": 6,
   "metadata": {
    "colab": {
     "base_uri": "https://localhost:8080/",
     "height": 359
    },
    "colab_type": "code",
    "executionInfo": {
     "elapsed": 42341,
     "status": "ok",
     "timestamp": 1586027854676,
     "user": {
      "displayName": "Mainak Deb",
      "photoUrl": "https://lh3.googleusercontent.com/a-/AOh14GioklG4WrXJDnpqYhYCi3628HMLmkMeM1wc5sebtcw=s64",
      "userId": "08577913655765659730"
     },
     "user_tz": -330
    },
    "id": "V3gp5GC8DmC3",
    "outputId": "4fd57063-e201-41dc-dcd0-3c905d96c9b5",
    "scrolled": true
   },
   "outputs": [
    {
     "data": {
      "image/png": "[encoded data removed]",
      "text/plain": [
       "<Figure size 432x288 with 2 Axes>"
      ]
     },
     "metadata": {
      "needs_background": "light"
     },
     "output_type": "display_data"
    }
   ],
   "source": [
    "sn.heatmap(df3.corr())\n",
    "plt.show()"
   ]
  },
  {
   "cell_type": "code",
   "execution_count": 9,
   "metadata": {},
   "outputs": [],
   "source": [
    "def plot_against_attr(attribute):\n",
    "    #attribute=\"Density\"\n",
    "    x = list(df3[attribute])\n",
    "    y = list(df3['Quality'])\n",
    "    y, x = zip(*sorted(zip(y, x)))\n",
    "    plt.plot(x,y,'o')\n",
    "    plt.xlabel(attribute)\n",
    "    plt.xticks()\n",
    "    plt.ylabel('Quality')\n",
    "    plt.grid()\n",
    "\n",
    "    z = np.polyfit(x, y, 1)\n",
    "    p = np.poly1d(z)\n",
    "    plt.plot(x,p(x),\"r--\")\n",
    "    plt.show()\n"
   ]
  },
  {
   "cell_type": "code",
   "execution_count": 12,
   "metadata": {},
   "outputs": [
    {
     "data": {
      "image/png": "[encoded data removed]",
      "text/plain": [
       "<Figure size 432x288 with 1 Axes>"
      ]
     },
     "metadata": {
      "needs_background": "light"
     },
     "output_type": "display_data"
    },
    {
     "data": {
      "image/png": "[encoded data removed]",
      "text/plain": [
       "<Figure size 432x288 with 1 Axes>"
      ]
     },
     "metadata": {
      "needs_background": "light"
     },
     "output_type": "display_data"
    },
    {
     "data": {
      "image/png": "[encoded data removed]",
      "text/plain": [
       "<Figure size 432x288 with 1 Axes>"
      ]
     },
     "metadata": {
      "needs_background": "light"
     },
     "output_type": "display_data"
    }
   ],
   "source": [
    "plot_against_attr(\"Density\")\n",
    "plot_against_attr(\"Citric_acid\")\n",
    "plot_against_attr(\"Alcohol\")"
   ]
  },
  {
   "cell_type": "code",
   "execution_count": 13,
   "metadata": {
    "colab": {},
    "colab_type": "code",
    "id": "FJOYAEUTDmAb"
   },
   "outputs": [],
   "source": [
    "# Scale\n",
    "\n",
    "quality_backup = df3[\"Quality\"]\n",
    "scaler = MinMaxScaler()\n",
    "df_scaled = pd.DataFrame(scaler.fit_transform(df3), columns = df3.columns)\n",
    "df_scaled['Quality'] = quality_backup #restore quality values\n",
    "\n",
    "\n",
    "\n",
    "max_size = df_scaled['Quality'].value_counts().max()\n",
    "lst = [df_scaled]\n",
    "for class_index, group in df_scaled.groupby('Quality'):\n",
    "    lst.append(group.sample(max_size-len(group), replace=True))\n",
    "frame_new = pd.concat(lst)\n",
    "\n",
    "df_scaled2=frame_new\n",
    "df_scaled2[\"Quality\"].value_counts()\n",
    "\n",
    "#shuffle\n",
    "df_scaled3=df_scaled2.sample(frac=1)"
   ]
  },
  {
   "cell_type": "code",
   "execution_count": 14,
   "metadata": {
    "colab": {},
    "colab_type": "code",
    "id": "uCqHM5XxDl9l"
   },
   "outputs": [],
   "source": [
    "train = df_scaled3.iloc[:3686]\n",
    "val = df_scaled3.iloc[3686:3886]\n",
    "test = df_scaled3.iloc[3886:]"
   ]
  },
  {
   "cell_type": "code",
   "execution_count": 15,
   "metadata": {
    "colab": {
     "base_uri": "https://localhost:8080/",
     "height": 136
    },
    "colab_type": "code",
    "executionInfo": {
     "elapsed": 42324,
     "status": "ok",
     "timestamp": 1586027854678,
     "user": {
      "displayName": "Mainak Deb",
      "photoUrl": "https://lh3.googleusercontent.com/a-/AOh14GioklG4WrXJDnpqYhYCi3628HMLmkMeM1wc5sebtcw=s64",
      "userId": "08577913655765659730"
     },
     "user_tz": -330
    },
    "id": "aLBgWb-bDl8H",
    "outputId": "ad67ba81-aab9-4687-ae97-6e1a617a9e03"
   },
   "outputs": [
    {
     "data": {
      "text/plain": [
       "8.0    623\n",
       "6.0    621\n",
       "7.0    617\n",
       "4.0    611\n",
       "3.0    610\n",
       "5.0    604\n",
       "Name: Quality, dtype: int64"
      ]
     },
     "execution_count": 15,
     "metadata": {},
     "output_type": "execute_result"
    }
   ],
   "source": [
    "train[\"Quality\"].value_counts()"
   ]
  },
  {
   "cell_type": "code",
   "execution_count": 12,
   "metadata": {
    "colab": {
     "base_uri": "https://localhost:8080/",
     "height": 51
    },
    "colab_type": "code",
    "executionInfo": {
     "elapsed": 42318,
     "status": "ok",
     "timestamp": 1586027854679,
     "user": {
      "displayName": "Mainak Deb",
      "photoUrl": "https://lh3.googleusercontent.com/a-/AOh14GioklG4WrXJDnpqYhYCi3628HMLmkMeM1wc5sebtcw=s64",
      "userId": "08577913655765659730"
     },
     "user_tz": -330
    },
    "id": "CS5SFLwUDl5t",
    "outputId": "8f8bc649-c988-4de1-d1b7-1922a55877ef"
   },
   "outputs": [
    {
     "name": "stdout",
     "output_type": "stream",
     "text": [
      "(3686, 11)\n",
      "(200, 11)\n"
     ]
    }
   ],
   "source": [
    "X_train, y_train= train.drop('Quality', axis=1), train['Quality']\n",
    "print(X_train.shape)\n",
    "\n",
    "X_val, y_val = val.drop('Quality', axis=1), val['Quality']\n",
    "print(X_val.shape)\n",
    "\n",
    "X_test, y_test = test.drop(\"Quality\", axis=1), test[\"Quality\"]\n"
   ]
  },
  {
   "cell_type": "code",
   "execution_count": 47,
   "metadata": {
    "colab": {
     "base_uri": "https://localhost:8080/",
     "height": 34
    },
    "colab_type": "code",
    "executionInfo": {
     "elapsed": 24426,
     "status": "ok",
     "timestamp": 1586028919004,
     "user": {
      "displayName": "Mainak Deb",
      "photoUrl": "https://lh3.googleusercontent.com/a-/AOh14GioklG4WrXJDnpqYhYCi3628HMLmkMeM1wc5sebtcw=s64",
      "userId": "08577913655765659730"
     },
     "user_tz": -330
    },
    "id": "AsLdat2eE2OO",
    "outputId": "726e1bbd-e404-4b32-d3fc-8ecabcbe25f4"
   },
   "outputs": [
    {
     "name": "stdout",
     "output_type": "stream",
     "text": [
      "527\n"
     ]
    }
   ],
   "source": [
    "f=7 # no. of batches\n",
    "\n",
    "train_batch = np.array_split(X_train, f) \n",
    "label_batch = np.array_split(y_train, f) # 50 sections/batches\n",
    "\n",
    "val_batch = np.array_split(X_val, f)\n",
    "val_label_batch = np.array_split(y_val, f)\n",
    "\n",
    "test_batch = np.array_split(X_test,f) \n",
    "test_label_batch  = np.array_split(y_test, f)\n",
    "\n",
    "\n",
    "for i in range(len(train_batch)):\n",
    "    train_batch[i] = torch.from_numpy(train_batch[i].values).float()\n",
    "for i in range(len(label_batch)):\n",
    "    label_batch[i] = torch.from_numpy(label_batch[i].values).float().view(-1, 1)\n",
    "    \n",
    "for i in range(len(val_batch)):\n",
    "    val_batch[i] = torch.from_numpy(val_batch[i].values).float()\n",
    "for i in range(len(val_label_batch)):\n",
    "    val_label_batch[i] = torch.from_numpy(val_label_batch[i].values).float().view(-1, 1)\n",
    "    \n",
    "    \n",
    "    \n",
    "for i in range(len(test_batch)):\n",
    "    test_batch[i] = torch.from_numpy(test_batch[i].values).float()\n",
    "for i in range(len(test_label_batch)):\n",
    "    test_label_batch[i] = torch.from_numpy(test_label_batch[i].values).float().view(-1, 1)\n",
    "    \n",
    "    \n",
    "    \n",
    "print(len(train_batch[0]))\n"
   ]
  },
  {
   "cell_type": "code",
   "execution_count": 0,
   "metadata": {
    "colab": {},
    "colab_type": "code",
    "id": "Ml1BgIpxE2L9"
   },
   "outputs": [],
   "source": [
    "class Regressor(nn.Module):\n",
    "    def __init__(self):\n",
    "        super().__init__()\n",
    "        \n",
    "        self.fc1 = nn.Linear(11, 22)\n",
    "        self.fc2 = nn.Linear(22, 44)\n",
    "        self.fc3 = nn.Linear(44, 88)\n",
    "        self.fc4 = nn.Linear(88, 88)\n",
    "        self.fc5 = nn.Linear(88, 44)\n",
    "        self.fc6 = nn.Linear(44, 22)\n",
    "        self.fc7 = nn.Linear(22, 1)\n",
    "       \n",
    "    def forward(self, x):\n",
    "        \n",
    "        x = F.relu(self.fc1(x))\n",
    "        x = F.relu(self.fc2(x))\n",
    "        x = F.relu(self.fc3(x))\n",
    "        x = F.relu(self.fc4(x))\n",
    "        x = F.relu(self.fc5(x))\n",
    "        x = F.relu(self.fc6(x))\n",
    "        x = F.relu(self.fc7(x))\n",
    "\n",
    "        return x"
   ]
  },
  {
   "cell_type": "code",
   "execution_count": null,
   "metadata": {
    "colab": {
     "base_uri": "https://localhost:8080/",
     "height": 1000,
     "referenced_widgets": [
      "3c357278fde345e9a70609e173540df9",
      "2b0544061d1e46ec8a6f669b3e173e57",
      "18c0fa0cae644602a339737474c165a4",
      "4f961f0a403d43d3ae450556136b942a",
      "f23e753b7339457496554d056d04e2c3",
      "14e4c0e78e0a4dbfbc7724e8efe335e1",
      "9dc09f311aee451bbe989384f6819bd5",
      "34974d27f46c4c598fe76ffcf2a9239d"
     ]
    },
    "colab_type": "code",
    "executionInfo": {
     "elapsed": 46936,
     "status": "ok",
     "timestamp": 1586032250133,
     "user": {
      "displayName": "Mainak Deb",
      "photoUrl": "https://lh3.googleusercontent.com/a-/AOh14GioklG4WrXJDnpqYhYCi3628HMLmkMeM1wc5sebtcw=s64",
      "userId": "08577913655765659730"
     },
     "user_tz": -330
    },
    "id": "HvTIRas7E2Ku",
    "outputId": "d6a9efb2-a51b-41b2-8833-d957d329f1e9"
   },
   "outputs": [],
   "source": [
    "model = Regressor()\n",
    "criterion = nn.MSELoss()\n",
    "optimizer = optim.Adam(model.parameters(), lr=0.018) # 0.015 87\n",
    "#print(model)\n",
    "epochs = 1000\n",
    "train_losses, val_losses = [], []\n",
    "\n",
    "\n",
    "scheduler = torch.optim.lr_scheduler.ReduceLROnPlateau(optimizer, 'min', factor = 0.01) #0.1 , 78good\n",
    "\n",
    "\n",
    "for e in tnrange(epochs):\n",
    "    \n",
    "    model.train()\n",
    "    train_loss = 0\n",
    "    val_loss_1=0\n",
    "    val_loss_sum = 0\n",
    "    \n",
    "    \n",
    "    for i in range(len(train_batch)):\n",
    "        \n",
    "        optimizer.zero_grad()\n",
    "        output = model(train_batch[i])\n",
    "        loss = criterion(output, label_batch[i])\n",
    "        loss.backward()\n",
    "        optimizer.step()\n",
    "        train_loss += loss.item()\n",
    "    \n",
    "        with torch.no_grad():\n",
    "            \n",
    "            for j in range(len(val_batch)):\n",
    "                \n",
    "                val_output = model(val_batch[j])\n",
    "                val_loss =  criterion(val_output, val_label_batch[j])\n",
    "                val_loss_1+=val_loss.item()\n",
    "        val_loss_sum=val_loss_1/len(val_batch)\n",
    "        \n",
    "        \n",
    "    #print(\"Epoch :\", e, \"train_loss :\", train_loss/len(train_batch), \"Val loss: \", val_loss_sum/len(val_batch))    \n",
    "    val_losses.append(val_loss_sum/len(val_batch))    \n",
    "    train_losses.append(train_loss/len(train_batch))"
   ]
  },
  {
   "cell_type": "code",
   "execution_count": 150,
   "metadata": {
    "colab": {
     "base_uri": "https://localhost:8080/",
     "height": 284
    },
    "colab_type": "code",
    "executionInfo": {
     "elapsed": 41989,
     "status": "ok",
     "timestamp": 1586032250894,
     "user": {
      "displayName": "Mainak Deb",
      "photoUrl": "https://lh3.googleusercontent.com/a-/AOh14GioklG4WrXJDnpqYhYCi3628HMLmkMeM1wc5sebtcw=s64",
      "userId": "08577913655765659730"
     },
     "user_tz": -330
    },
    "id": "g3uZMDqrE2Iu",
    "outputId": "bf35b040-0021-460c-959a-ffc967dd8737"
   },
   "outputs": [
    {
     "data": {
      "text/plain": [
       "<matplotlib.legend.Legend at 0x7fb18b01a278>"
      ]
     },
     "execution_count": 150,
     "metadata": {
      "tags": []
     },
     "output_type": "execute_result"
    },
    {
     "data": {
      "image/png": "[encoded data removed]",
      "text/plain": [
       "<Figure size 432x288 with 1 Axes>"
      ]
     },
     "metadata": {
      "tags": []
     },
     "output_type": "display_data"
    }
   ],
   "source": [
    "f=10\n",
    "\n",
    "plt.plot(train_losses[f:], label='Training loss')\n",
    "plt.plot(val_losses[f:], label='Validation loss')\n",
    "plt.grid()\n",
    "plt.legend()"
   ]
  },
  {
   "cell_type": "code",
   "execution_count": 152,
   "metadata": {
    "colab": {
     "base_uri": "https://localhost:8080/",
     "height": 34
    },
    "colab_type": "code",
    "executionInfo": {
     "elapsed": 1066,
     "status": "ok",
     "timestamp": 1586032255502,
     "user": {
      "displayName": "Mainak Deb",
      "photoUrl": "https://lh3.googleusercontent.com/a-/AOh14GioklG4WrXJDnpqYhYCi3628HMLmkMeM1wc5sebtcw=s64",
      "userId": "08577913655765659730"
     },
     "user_tz": -330
    },
    "id": "adEdN36pE156",
    "outputId": "b21c6758-8956-422b-e0e8-8f68dcf2a00b"
   },
   "outputs": [
    {
     "name": "stdout",
     "output_type": "stream",
     "text": [
      "Accuracy: 0.905\n"
     ]
    }
   ],
   "source": [
    "correct=0\n",
    "i=0\n",
    "res=[]\n",
    "with torch.no_grad():\n",
    "    for batch in test_batch :\n",
    "        for j in range(len(batch)):\n",
    "            x = model(batch[j])\n",
    "            #print(round(x.item()))\n",
    "            res.append(round(x.item()))\n",
    "\n",
    "true_labels= list(test[\"Quality\"])\n",
    "\n",
    "for i in range(len(res)):\n",
    "    if res[i]==int(true_labels[i]):\n",
    "        correct+=1\n",
    "        \n",
    "print(\"Accuracy:\", correct/len(res))"
   ]
  }
 ],
 "metadata": {
  "accelerator": "GPU",
  "colab": {
   "authorship_tag": "ABX9TyOrYBIpKzDQ31v92gwEN0qf",
   "collapsed_sections": [],
   "name": "Wine_Connoisseur.ipynb",
   "provenance": []
  },
  "kernelspec": {
   "display_name": "Python 3",
   "language": "python",
   "name": "python3"
  },
  "language_info": {
   "codemirror_mode": {
    "name": "ipython",
    "version": 3
   },
   "file_extension": ".py",
   "mimetype": "text/x-python",
   "name": "python",
   "nbconvert_exporter": "python",
   "pygments_lexer": "ipython3",
   "version": "3.7.3"
  },
  "widgets": {
   "application/vnd.jupyter.widget-state+json": {
    "14e4c0e78e0a4dbfbc7724e8efe335e1": {
     "model_module": "@jupyter-widgets/base",
     "model_name": "LayoutModel",
     "state": {
      "_model_module": "@jupyter-widgets/base",
      "_model_module_version": "1.2.0",
      "_model_name": "LayoutModel",
      "_view_count": null,
      "_view_module": "@jupyter-widgets/base",
      "_view_module_version": "1.2.0",
      "_view_name": "LayoutView",
      "align_content": null,
      "align_items": null,
      "align_self": null,
      "border": null,
      "bottom": null,
      "display": null,
      "flex": null,
      "flex_flow": null,
      "grid_area": null,
      "grid_auto_columns": null,
      "grid_auto_flow": null,
      "grid_auto_rows": null,
      "grid_column": null,
      "grid_gap": null,
      "grid_row": null,
      "grid_template_areas": null,
      "grid_template_columns": null,
      "grid_template_rows": null,
      "height": null,
      "justify_content": null,
      "justify_items": null,
      "left": null,
      "margin": null,
      "max_height": null,
      "max_width": null,
      "min_height": null,
      "min_width": null,
      "object_fit": null,
      "object_position": null,
      "order": null,
      "overflow": null,
      "overflow_x": null,
      "overflow_y": null,
      "padding": null,
      "right": null,
      "top": null,
      "visibility": null,
      "width": null
     }
    },
    "18c0fa0cae644602a339737474c165a4": {
     "model_module": "@jupyter-widgets/controls",
     "model_name": "IntProgressModel",
     "state": {
      "_dom_classes": [],
      "_model_module": "@jupyter-widgets/controls",
      "_model_module_version": "1.5.0",
      "_model_name": "IntProgressModel",
      "_view_count": null,
      "_view_module": "@jupyter-widgets/controls",
      "_view_module_version": "1.5.0",
      "_view_name": "ProgressView",
      "bar_style": "success",
      "description": "100%",
      "description_tooltip": null,
      "layout": "IPY_MODEL_14e4c0e78e0a4dbfbc7724e8efe335e1",
      "max": 1000,
      "min": 0,
      "orientation": "horizontal",
      "style": "IPY_MODEL_f23e753b7339457496554d056d04e2c3",
      "value": 1000
     }
    },
    "2b0544061d1e46ec8a6f669b3e173e57": {
     "model_module": "@jupyter-widgets/base",
     "model_name": "LayoutModel",
     "state": {
      "_model_module": "@jupyter-widgets/base",
      "_model_module_version": "1.2.0",
      "_model_name": "LayoutModel",
      "_view_count": null,
      "_view_module": "@jupyter-widgets/base",
      "_view_module_version": "1.2.0",
      "_view_name": "LayoutView",
      "align_content": null,
      "align_items": null,
      "align_self": null,
      "border": null,
      "bottom": null,
      "display": null,
      "flex": null,
      "flex_flow": null,
      "grid_area": null,
      "grid_auto_columns": null,
      "grid_auto_flow": null,
      "grid_auto_rows": null,
      "grid_column": null,
      "grid_gap": null,
      "grid_row": null,
      "grid_template_areas": null,
      "grid_template_columns": null,
      "grid_template_rows": null,
      "height": null,
      "justify_content": null,
      "justify_items": null,
      "left": null,
      "margin": null,
      "max_height": null,
      "max_width": null,
      "min_height": null,
      "min_width": null,
      "object_fit": null,
      "object_position": null,
      "order": null,
      "overflow": null,
      "overflow_x": null,
      "overflow_y": null,
      "padding": null,
      "right": null,
      "top": null,
      "visibility": null,
      "width": null
     }
    },
    "34974d27f46c4c598fe76ffcf2a9239d": {
     "model_module": "@jupyter-widgets/base",
     "model_name": "LayoutModel",
     "state": {
      "_model_module": "@jupyter-widgets/base",
      "_model_module_version": "1.2.0",
      "_model_name": "LayoutModel",
      "_view_count": null,
      "_view_module": "@jupyter-widgets/base",
      "_view_module_version": "1.2.0",
      "_view_name": "LayoutView",
      "align_content": null,
      "align_items": null,
      "align_self": null,
      "border": null,
      "bottom": null,
      "display": null,
      "flex": null,
      "flex_flow": null,
      "grid_area": null,
      "grid_auto_columns": null,
      "grid_auto_flow": null,
      "grid_auto_rows": null,
      "grid_column": null,
      "grid_gap": null,
      "grid_row": null,
      "grid_template_areas": null,
      "grid_template_columns": null,
      "grid_template_rows": null,
      "height": null,
      "justify_content": null,
      "justify_items": null,
      "left": null,
      "margin": null,
      "max_height": null,
      "max_width": null,
      "min_height": null,
      "min_width": null,
      "object_fit": null,
      "object_position": null,
      "order": null,
      "overflow": null,
      "overflow_x": null,
      "overflow_y": null,
      "padding": null,
      "right": null,
      "top": null,
      "visibility": null,
      "width": null
     }
    },
    "3c357278fde345e9a70609e173540df9": {
     "model_module": "@jupyter-widgets/controls",
     "model_name": "HBoxModel",
     "state": {
      "_dom_classes": [],
      "_model_module": "@jupyter-widgets/controls",
      "_model_module_version": "1.5.0",
      "_model_name": "HBoxModel",
      "_view_count": null,
      "_view_module": "@jupyter-widgets/controls",
      "_view_module_version": "1.5.0",
      "_view_name": "HBoxView",
      "box_style": "",
      "children": [
       "IPY_MODEL_18c0fa0cae644602a339737474c165a4",
       "IPY_MODEL_4f961f0a403d43d3ae450556136b942a"
      ],
      "layout": "IPY_MODEL_2b0544061d1e46ec8a6f669b3e173e57"
     }
    },
    "4f961f0a403d43d3ae450556136b942a": {
     "model_module": "@jupyter-widgets/controls",
     "model_name": "HTMLModel",
     "state": {
      "_dom_classes": [],
      "_model_module": "@jupyter-widgets/controls",
      "_model_module_version": "1.5.0",
      "_model_name": "HTMLModel",
      "_view_count": null,
      "_view_module": "@jupyter-widgets/controls",
      "_view_module_version": "1.5.0",
      "_view_name": "HTMLView",
      "description": "",
      "description_tooltip": null,
      "layout": "IPY_MODEL_34974d27f46c4c598fe76ffcf2a9239d",
      "placeholder": "​",
      "style": "IPY_MODEL_9dc09f311aee451bbe989384f6819bd5",
      "value": " 1000/1000 [00:46&lt;00:00, 21.60it/s]"
     }
    },
    "9dc09f311aee451bbe989384f6819bd5": {
     "model_module": "@jupyter-widgets/controls",
     "model_name": "DescriptionStyleModel",
     "state": {
      "_model_module": "@jupyter-widgets/controls",
      "_model_module_version": "1.5.0",
      "_model_name": "DescriptionStyleModel",
      "_view_count": null,
      "_view_module": "@jupyter-widgets/base",
      "_view_module_version": "1.2.0",
      "_view_name": "StyleView",
      "description_width": ""
     }
    },
    "f23e753b7339457496554d056d04e2c3": {
     "model_module": "@jupyter-widgets/controls",
     "model_name": "ProgressStyleModel",
     "state": {
      "_model_module": "@jupyter-widgets/controls",
      "_model_module_version": "1.5.0",
      "_model_name": "ProgressStyleModel",
      "_view_count": null,
      "_view_module": "@jupyter-widgets/base",
      "_view_module_version": "1.2.0",
      "_view_name": "StyleView",
      "bar_color": null,
      "description_width": "initial"
     }
    }
   }
  }
 },
 "nbformat": 4,
 "nbformat_minor": 1
}
